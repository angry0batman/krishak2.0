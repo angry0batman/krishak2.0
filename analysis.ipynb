{
 "cells": [
  {
   "cell_type": "code",
   "execution_count": 59,
   "metadata": {},
   "outputs": [],
   "source": [
    "import numpy as np\n",
    "import pandas as pd\n",
    "from matplotlib import pyplot as plt\n",
    "from sklearn.model_selection import train_test_split\n",
    "from sklearn.linear_model import LinearRegression\n",
    "import pickle"
   ]
  },
  {
   "cell_type": "code",
   "execution_count": 60,
   "metadata": {},
   "outputs": [],
   "source": [
    "df=pd.read_csv(\"_crop+yield+prediction_data_crop_yield.csv\")"
   ]
  },
  {
   "cell_type": "code",
   "execution_count": 61,
   "metadata": {},
   "outputs": [
    {
     "data": {
      "text/html": [
       "<div>\n",
       "<style scoped>\n",
       "    .dataframe tbody tr th:only-of-type {\n",
       "        vertical-align: middle;\n",
       "    }\n",
       "\n",
       "    .dataframe tbody tr th {\n",
       "        vertical-align: top;\n",
       "    }\n",
       "\n",
       "    .dataframe thead th {\n",
       "        text-align: right;\n",
       "    }\n",
       "</style>\n",
       "<table border=\"1\" class=\"dataframe\">\n",
       "  <thead>\n",
       "    <tr style=\"text-align: right;\">\n",
       "      <th></th>\n",
       "      <th>Crop</th>\n",
       "      <th>Precipitation (mm day-1)</th>\n",
       "      <th>Specific Humidity at 2 Meters (g/kg)</th>\n",
       "      <th>Relative Humidity at 2 Meters (%)</th>\n",
       "      <th>Temperature at 2 Meters (C)</th>\n",
       "      <th>Yield</th>\n",
       "    </tr>\n",
       "  </thead>\n",
       "  <tbody>\n",
       "    <tr>\n",
       "      <th>0</th>\n",
       "      <td>Cocoa, beans</td>\n",
       "      <td>2248.92</td>\n",
       "      <td>17.72</td>\n",
       "      <td>83.40</td>\n",
       "      <td>26.01</td>\n",
       "      <td>115600</td>\n",
       "    </tr>\n",
       "    <tr>\n",
       "      <th>1</th>\n",
       "      <td>Cocoa, beans</td>\n",
       "      <td>1938.42</td>\n",
       "      <td>17.54</td>\n",
       "      <td>82.11</td>\n",
       "      <td>26.11</td>\n",
       "      <td>112530</td>\n",
       "    </tr>\n",
       "    <tr>\n",
       "      <th>2</th>\n",
       "      <td>Cocoa, beans</td>\n",
       "      <td>2301.54</td>\n",
       "      <td>17.81</td>\n",
       "      <td>82.79</td>\n",
       "      <td>26.24</td>\n",
       "      <td>94560</td>\n",
       "    </tr>\n",
       "    <tr>\n",
       "      <th>3</th>\n",
       "      <td>Cocoa, beans</td>\n",
       "      <td>2592.35</td>\n",
       "      <td>17.61</td>\n",
       "      <td>85.07</td>\n",
       "      <td>25.56</td>\n",
       "      <td>93210</td>\n",
       "    </tr>\n",
       "    <tr>\n",
       "      <th>4</th>\n",
       "      <td>Cocoa, beans</td>\n",
       "      <td>2344.72</td>\n",
       "      <td>17.61</td>\n",
       "      <td>84.12</td>\n",
       "      <td>25.76</td>\n",
       "      <td>88000</td>\n",
       "    </tr>\n",
       "  </tbody>\n",
       "</table>\n",
       "</div>"
      ],
      "text/plain": [
       "           Crop  Precipitation (mm day-1)  \\\n",
       "0  Cocoa, beans                   2248.92   \n",
       "1  Cocoa, beans                   1938.42   \n",
       "2  Cocoa, beans                   2301.54   \n",
       "3  Cocoa, beans                   2592.35   \n",
       "4  Cocoa, beans                   2344.72   \n",
       "\n",
       "   Specific Humidity at 2 Meters (g/kg)  Relative Humidity at 2 Meters (%)  \\\n",
       "0                                 17.72                              83.40   \n",
       "1                                 17.54                              82.11   \n",
       "2                                 17.81                              82.79   \n",
       "3                                 17.61                              85.07   \n",
       "4                                 17.61                              84.12   \n",
       "\n",
       "   Temperature at 2 Meters (C)   Yield  \n",
       "0                        26.01  115600  \n",
       "1                        26.11  112530  \n",
       "2                        26.24   94560  \n",
       "3                        25.56   93210  \n",
       "4                        25.76   88000  "
      ]
     },
     "execution_count": 61,
     "metadata": {},
     "output_type": "execute_result"
    }
   ],
   "source": [
    "df.head()"
   ]
  },
  {
   "cell_type": "code",
   "execution_count": 62,
   "metadata": {},
   "outputs": [
    {
     "name": "stdout",
     "output_type": "stream",
     "text": [
      "['Cocoa, beans' 'Oil palm fruit' 'Rice, paddy' 'Soybean']\n"
     ]
    }
   ],
   "source": [
    "print(df['Crop'].unique())"
   ]
  },
  {
   "cell_type": "code",
   "execution_count": 63,
   "metadata": {},
   "outputs": [],
   "source": [
    "df['Crop'] = df['Crop'].astype('category').cat.codes"
   ]
  },
  {
   "cell_type": "code",
   "execution_count": 64,
   "metadata": {},
   "outputs": [
    {
     "data": {
      "text/html": [
       "<div>\n",
       "<style scoped>\n",
       "    .dataframe tbody tr th:only-of-type {\n",
       "        vertical-align: middle;\n",
       "    }\n",
       "\n",
       "    .dataframe tbody tr th {\n",
       "        vertical-align: top;\n",
       "    }\n",
       "\n",
       "    .dataframe thead th {\n",
       "        text-align: right;\n",
       "    }\n",
       "</style>\n",
       "<table border=\"1\" class=\"dataframe\">\n",
       "  <thead>\n",
       "    <tr style=\"text-align: right;\">\n",
       "      <th></th>\n",
       "      <th>Crop</th>\n",
       "      <th>Precipitation (mm day-1)</th>\n",
       "      <th>Specific Humidity at 2 Meters (g/kg)</th>\n",
       "      <th>Relative Humidity at 2 Meters (%)</th>\n",
       "      <th>Temperature at 2 Meters (C)</th>\n",
       "      <th>Yield</th>\n",
       "    </tr>\n",
       "  </thead>\n",
       "  <tbody>\n",
       "    <tr>\n",
       "      <th>0</th>\n",
       "      <td>0</td>\n",
       "      <td>2248.92</td>\n",
       "      <td>17.72</td>\n",
       "      <td>83.40</td>\n",
       "      <td>26.01</td>\n",
       "      <td>115600</td>\n",
       "    </tr>\n",
       "    <tr>\n",
       "      <th>1</th>\n",
       "      <td>0</td>\n",
       "      <td>1938.42</td>\n",
       "      <td>17.54</td>\n",
       "      <td>82.11</td>\n",
       "      <td>26.11</td>\n",
       "      <td>112530</td>\n",
       "    </tr>\n",
       "    <tr>\n",
       "      <th>2</th>\n",
       "      <td>0</td>\n",
       "      <td>2301.54</td>\n",
       "      <td>17.81</td>\n",
       "      <td>82.79</td>\n",
       "      <td>26.24</td>\n",
       "      <td>94560</td>\n",
       "    </tr>\n",
       "    <tr>\n",
       "      <th>3</th>\n",
       "      <td>0</td>\n",
       "      <td>2592.35</td>\n",
       "      <td>17.61</td>\n",
       "      <td>85.07</td>\n",
       "      <td>25.56</td>\n",
       "      <td>93210</td>\n",
       "    </tr>\n",
       "    <tr>\n",
       "      <th>4</th>\n",
       "      <td>0</td>\n",
       "      <td>2344.72</td>\n",
       "      <td>17.61</td>\n",
       "      <td>84.12</td>\n",
       "      <td>25.76</td>\n",
       "      <td>88000</td>\n",
       "    </tr>\n",
       "  </tbody>\n",
       "</table>\n",
       "</div>"
      ],
      "text/plain": [
       "   Crop  Precipitation (mm day-1)  Specific Humidity at 2 Meters (g/kg)  \\\n",
       "0     0                   2248.92                                 17.72   \n",
       "1     0                   1938.42                                 17.54   \n",
       "2     0                   2301.54                                 17.81   \n",
       "3     0                   2592.35                                 17.61   \n",
       "4     0                   2344.72                                 17.61   \n",
       "\n",
       "   Relative Humidity at 2 Meters (%)  Temperature at 2 Meters (C)   Yield  \n",
       "0                              83.40                        26.01  115600  \n",
       "1                              82.11                        26.11  112530  \n",
       "2                              82.79                        26.24   94560  \n",
       "3                              85.07                        25.56   93210  \n",
       "4                              84.12                        25.76   88000  "
      ]
     },
     "execution_count": 64,
     "metadata": {},
     "output_type": "execute_result"
    }
   ],
   "source": [
    "df.head()"
   ]
  },
  {
   "cell_type": "code",
   "execution_count": 65,
   "metadata": {},
   "outputs": [
    {
     "name": "stdout",
     "output_type": "stream",
     "text": [
      "[0 1 2 3]\n"
     ]
    }
   ],
   "source": [
    "print(df['Crop'].unique())"
   ]
  },
  {
   "cell_type": "code",
   "execution_count": 66,
   "metadata": {},
   "outputs": [],
   "source": [
    "X = df[['Crop', 'Precipitation (mm day-1)', 'Specific Humidity at 2 Meters (g/kg)', 'Relative Humidity at 2 Meters (%)', 'Temperature at 2 Meters (C)']]\n",
    "y = df['Yield']"
   ]
  },
  {
   "cell_type": "code",
   "execution_count": 67,
   "metadata": {},
   "outputs": [
    {
     "name": "stdout",
     "output_type": "stream",
     "text": [
      "     Crop  Precipitation (mm day-1)  Specific Humidity at 2 Meters (g/kg)  \\\n",
      "0       0                   2248.92                                 17.72   \n",
      "1       0                   1938.42                                 17.54   \n",
      "2       0                   2301.54                                 17.81   \n",
      "3       0                   2592.35                                 17.61   \n",
      "4       0                   2344.72                                 17.61   \n",
      "..    ...                       ...                                   ...   \n",
      "151     3                   2308.51                                 18.27   \n",
      "152     3                   2410.13                                 18.58   \n",
      "153     3                   2967.41                                 18.67   \n",
      "154     3                   2333.46                                 18.50   \n",
      "155     3                   2109.34                                 18.51   \n",
      "\n",
      "     Relative Humidity at 2 Meters (%)  Temperature at 2 Meters (C)  \n",
      "0                                83.40                        26.01  \n",
      "1                                82.11                        26.11  \n",
      "2                                82.79                        26.24  \n",
      "3                                85.07                        25.56  \n",
      "4                                84.12                        25.76  \n",
      "..                                 ...                          ...  \n",
      "151                              83.65                        26.47  \n",
      "152                              83.45                        26.81  \n",
      "153                              85.48                        26.46  \n",
      "154                              84.85                        26.43  \n",
      "155                              83.52                        26.72  \n",
      "\n",
      "[156 rows x 5 columns]\n"
     ]
    }
   ],
   "source": [
    "print(X)"
   ]
  },
  {
   "cell_type": "code",
   "execution_count": 68,
   "metadata": {},
   "outputs": [
    {
     "name": "stdout",
     "output_type": "stream",
     "text": [
      "0      115600\n",
      "1      112530\n",
      "2       94560\n",
      "3       93210\n",
      "4       88000\n",
      "        ...  \n",
      "151    423640\n",
      "152    423260\n",
      "153    422920\n",
      "154    422730\n",
      "155    422610\n",
      "Name: Yield, Length: 156, dtype: int64\n"
     ]
    }
   ],
   "source": [
    "print(y)"
   ]
  },
  {
   "cell_type": "code",
   "execution_count": 69,
   "metadata": {},
   "outputs": [],
   "source": [
    "\n",
    "X_train, X_test, y_train, y_test = train_test_split(X, y, test_size=0.3, random_state=100)"
   ]
  },
  {
   "cell_type": "code",
   "execution_count": 70,
   "metadata": {},
   "outputs": [
    {
     "data": {
      "text/html": [
       "<style>#sk-container-id-8 {color: black;}#sk-container-id-8 pre{padding: 0;}#sk-container-id-8 div.sk-toggleable {background-color: white;}#sk-container-id-8 label.sk-toggleable__label {cursor: pointer;display: block;width: 100%;margin-bottom: 0;padding: 0.3em;box-sizing: border-box;text-align: center;}#sk-container-id-8 label.sk-toggleable__label-arrow:before {content: \"▸\";float: left;margin-right: 0.25em;color: #696969;}#sk-container-id-8 label.sk-toggleable__label-arrow:hover:before {color: black;}#sk-container-id-8 div.sk-estimator:hover label.sk-toggleable__label-arrow:before {color: black;}#sk-container-id-8 div.sk-toggleable__content {max-height: 0;max-width: 0;overflow: hidden;text-align: left;background-color: #f0f8ff;}#sk-container-id-8 div.sk-toggleable__content pre {margin: 0.2em;color: black;border-radius: 0.25em;background-color: #f0f8ff;}#sk-container-id-8 input.sk-toggleable__control:checked~div.sk-toggleable__content {max-height: 200px;max-width: 100%;overflow: auto;}#sk-container-id-8 input.sk-toggleable__control:checked~label.sk-toggleable__label-arrow:before {content: \"▾\";}#sk-container-id-8 div.sk-estimator input.sk-toggleable__control:checked~label.sk-toggleable__label {background-color: #d4ebff;}#sk-container-id-8 div.sk-label input.sk-toggleable__control:checked~label.sk-toggleable__label {background-color: #d4ebff;}#sk-container-id-8 input.sk-hidden--visually {border: 0;clip: rect(1px 1px 1px 1px);clip: rect(1px, 1px, 1px, 1px);height: 1px;margin: -1px;overflow: hidden;padding: 0;position: absolute;width: 1px;}#sk-container-id-8 div.sk-estimator {font-family: monospace;background-color: #f0f8ff;border: 1px dotted black;border-radius: 0.25em;box-sizing: border-box;margin-bottom: 0.5em;}#sk-container-id-8 div.sk-estimator:hover {background-color: #d4ebff;}#sk-container-id-8 div.sk-parallel-item::after {content: \"\";width: 100%;border-bottom: 1px solid gray;flex-grow: 1;}#sk-container-id-8 div.sk-label:hover label.sk-toggleable__label {background-color: #d4ebff;}#sk-container-id-8 div.sk-serial::before {content: \"\";position: absolute;border-left: 1px solid gray;box-sizing: border-box;top: 0;bottom: 0;left: 50%;z-index: 0;}#sk-container-id-8 div.sk-serial {display: flex;flex-direction: column;align-items: center;background-color: white;padding-right: 0.2em;padding-left: 0.2em;position: relative;}#sk-container-id-8 div.sk-item {position: relative;z-index: 1;}#sk-container-id-8 div.sk-parallel {display: flex;align-items: stretch;justify-content: center;background-color: white;position: relative;}#sk-container-id-8 div.sk-item::before, #sk-container-id-8 div.sk-parallel-item::before {content: \"\";position: absolute;border-left: 1px solid gray;box-sizing: border-box;top: 0;bottom: 0;left: 50%;z-index: -1;}#sk-container-id-8 div.sk-parallel-item {display: flex;flex-direction: column;z-index: 1;position: relative;background-color: white;}#sk-container-id-8 div.sk-parallel-item:first-child::after {align-self: flex-end;width: 50%;}#sk-container-id-8 div.sk-parallel-item:last-child::after {align-self: flex-start;width: 50%;}#sk-container-id-8 div.sk-parallel-item:only-child::after {width: 0;}#sk-container-id-8 div.sk-dashed-wrapped {border: 1px dashed gray;margin: 0 0.4em 0.5em 0.4em;box-sizing: border-box;padding-bottom: 0.4em;background-color: white;}#sk-container-id-8 div.sk-label label {font-family: monospace;font-weight: bold;display: inline-block;line-height: 1.2em;}#sk-container-id-8 div.sk-label-container {text-align: center;}#sk-container-id-8 div.sk-container {/* jupyter's `normalize.less` sets `[hidden] { display: none; }` but bootstrap.min.css set `[hidden] { display: none !important; }` so we also need the `!important` here to be able to override the default hidden behavior on the sphinx rendered scikit-learn.org. See: https://github.com/scikit-learn/scikit-learn/issues/21755 */display: inline-block !important;position: relative;}#sk-container-id-8 div.sk-text-repr-fallback {display: none;}</style><div id=\"sk-container-id-8\" class=\"sk-top-container\"><div class=\"sk-text-repr-fallback\"><pre>LinearRegression()</pre><b>In a Jupyter environment, please rerun this cell to show the HTML representation or trust the notebook. <br />On GitHub, the HTML representation is unable to render, please try loading this page with nbviewer.org.</b></div><div class=\"sk-container\" hidden><div class=\"sk-item\"><div class=\"sk-estimator sk-toggleable\"><input class=\"sk-toggleable__control sk-hidden--visually\" id=\"sk-estimator-id-8\" type=\"checkbox\" checked><label for=\"sk-estimator-id-8\" class=\"sk-toggleable__label sk-toggleable__label-arrow\">LinearRegression</label><div class=\"sk-toggleable__content\"><pre>LinearRegression()</pre></div></div></div></div></div>"
      ],
      "text/plain": [
       "LinearRegression()"
      ]
     },
     "execution_count": 70,
     "metadata": {},
     "output_type": "execute_result"
    }
   ],
   "source": [
    "model= LinearRegression()\n",
    "model.fit(X_train,y_train)"
   ]
  },
  {
   "cell_type": "code",
   "execution_count": 71,
   "metadata": {},
   "outputs": [
    {
     "name": "stdout",
     "output_type": "stream",
     "text": [
      "[184601.72792427  76102.38603435 406980.15159095  75873.62642281\n",
      " 402732.49916995 303646.8561261  397114.35272965  79978.78777343\n",
      " 292679.94802582 186063.13707222  81218.1759873  298242.43891708\n",
      "  77283.69258955  79974.67050435 411367.9104483  181921.56599013\n",
      " 190402.28623728 189321.35989321 185446.54449005 293166.75062687\n",
      " 185216.19854259  79608.19583052 293944.30004406 410812.96096977\n",
      " 189998.98827435 400606.7102297  405522.28135671  76103.97237027\n",
      "  82785.24461042 294787.53027392 403286.87216384 299341.56039413\n",
      " 404906.37374138 408684.13251392  76720.56495244  69086.6363703\n",
      " 183337.37590603 401343.33652062 402509.32274665 407635.91218988\n",
      " 406857.08682088 408006.50413278 295968.83682912 291264.13810991\n",
      " 186837.13711714 301470.38884999 302025.33832852]\n"
     ]
    }
   ],
   "source": [
    "y_pred = model.predict(X_test)\n",
    "print(y_pred)\n"
   ]
  },
  {
   "cell_type": "code",
   "execution_count": 72,
   "metadata": {},
   "outputs": [
    {
     "name": "stdout",
     "output_type": "stream",
     "text": [
      "R-squared: 0.9816743577639486\n",
      "MSE: 314312295.93372047\n",
      "RMSE: 17728.85489629041\n",
      "MAE: 15166.882979333886\n"
     ]
    }
   ],
   "source": [
    "from sklearn.metrics import mean_squared_error, mean_absolute_error, r2_score\n",
    "\n",
    "r2 = r2_score(y_test, y_pred)\n",
    "mse = mean_squared_error(y_test, y_pred)\n",
    "rmse = mse ** 0.5\n",
    "mae = mean_absolute_error(y_test, y_pred)\n",
    "\n",
    "print(f\"R-squared: {r2}\")\n",
    "print(f\"MSE: {mse}\")\n",
    "print(f\"RMSE: {rmse}\")\n",
    "print(f\"MAE: {mae}\")\n"
   ]
  },
  {
   "cell_type": "code",
   "execution_count": 73,
   "metadata": {},
   "outputs": [],
   "source": [
    "with open('crop_yield_model.pkl', 'wb') as file:\n",
    "    pickle.dump(model, file)"
   ]
  }
 ],
 "metadata": {
  "kernelspec": {
   "display_name": "base",
   "language": "python",
   "name": "python3"
  },
  "language_info": {
   "codemirror_mode": {
    "name": "ipython",
    "version": 3
   },
   "file_extension": ".py",
   "mimetype": "text/x-python",
   "name": "python",
   "nbconvert_exporter": "python",
   "pygments_lexer": "ipython3",
   "version": "3.11.5"
  }
 },
 "nbformat": 4,
 "nbformat_minor": 2
}
